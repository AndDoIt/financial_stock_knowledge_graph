{
 "cells": [
  {
   "cell_type": "markdown",
   "metadata": {},
   "source": [
    "# 金融 证券 图谱搭建"
   ]
  },
  {
   "cell_type": "markdown",
   "metadata": {},
   "source": [
    "## 知识图谱应用"
   ]
  },
  {
   "cell_type": "code",
   "execution_count": 15,
   "metadata": {
    "ExecuteTime": {
     "end_time": "2020-01-28T05:48:19.517559Z",
     "start_time": "2020-01-28T05:48:19.514553Z"
    }
   },
   "outputs": [],
   "source": [
    "import os\n",
    "from py2neo import Graph\n",
    "import warnings\n",
    "warnings.filterwarnings('ignore')"
   ]
  },
  {
   "cell_type": "code",
   "execution_count": 16,
   "metadata": {},
   "outputs": [],
   "source": [
    "def check_result(result):\n",
    "    for c in result :\n",
    "        print(c)"
   ]
  },
  {
   "cell_type": "code",
   "execution_count": 17,
   "metadata": {},
   "outputs": [],
   "source": [
    "graph = Graph(\n",
    "    \"http://localhost:7474\",\n",
    "    usernmae=\"neo4j\",\n",
    "    password=\"Neo4j\"\n",
    ")"
   ]
  },
  {
   "cell_type": "code",
   "execution_count": null,
   "metadata": {},
   "outputs": [],
   "source": []
  },
  {
   "cell_type": "markdown",
   "metadata": {},
   "source": [
    "### 设置"
   ]
  },
  {
   "cell_type": "markdown",
   "metadata": {},
   "source": [
    "创建索引，提高查询效率"
   ]
  },
  {
   "cell_type": "code",
   "execution_count": 22,
   "metadata": {},
   "outputs": [],
   "source": [
    "index_scripts = \"\"\"CREATE INDEX ON :CITY(city);\n",
    "                CREATE INDEX ON :FUND(fund_code);\n",
    "                CREATE INDEX ON :COMPANY(company);\n",
    "                CREATE INDEX ON :FUND_CUSTODIAN(company);\n",
    "                CREATE INDEX ON :FUND_MANAGER(company);\n",
    "                CREATE INDEX ON :LISTED_COMPANY(company);\n",
    "                CREATE INDEX ON :INDUSTRY(industry);\n",
    "                CREATE INDEX ON :MANAGER(manager_id);\n",
    "                CREATE INDEX ON :PROVINCE(province);\n",
    "                \"\"\""
   ]
  },
  {
   "cell_type": "code",
   "execution_count": 23,
   "metadata": {},
   "outputs": [
    {
     "name": "stdout",
     "output_type": "stream",
     "text": [
      "CREATE INDEX ON :CITY(city);\n",
      "CREATE INDEX ON :FUND(fund_code);\n",
      "CREATE INDEX ON :COMPANY(company);\n",
      "CREATE INDEX ON :FUND_CUSTODIAN(company);\n",
      "CREATE INDEX ON :FUND_MANAGER(company);\n",
      "CREATE INDEX ON :LISTED_COMPANY(company);\n",
      "CREATE INDEX ON :INDUSTRY(industry);\n",
      "CREATE INDEX ON :MANAGER(manager_id);\n",
      "CREATE INDEX ON :PROVINCE(province);\n"
     ]
    }
   ],
   "source": [
    "for scripts in index_scripts.split('\\n'):\n",
    "    scripts = scripts.strip()\n",
    "    if len(scripts)>5 :\n",
    "        print(scripts)\n",
    "        result = graph.run(scripts)"
   ]
  },
  {
   "cell_type": "code",
   "execution_count": null,
   "metadata": {},
   "outputs": [],
   "source": []
  },
  {
   "cell_type": "code",
   "execution_count": null,
   "metadata": {},
   "outputs": [],
   "source": []
  },
  {
   "cell_type": "code",
   "execution_count": null,
   "metadata": {},
   "outputs": [],
   "source": []
  },
  {
   "cell_type": "markdown",
   "metadata": {},
   "source": [
    "#### 1.可视化"
   ]
  },
  {
   "cell_type": "code",
   "execution_count": null,
   "metadata": {},
   "outputs": [],
   "source": []
  },
  {
   "cell_type": "markdown",
   "metadata": {},
   "source": [
    "#### 2.图查询"
   ]
  },
  {
   "cell_type": "code",
   "execution_count": null,
   "metadata": {},
   "outputs": [],
   "source": [
    "1. 某股票的公墓基金持仓情况，比列\n",
    "2. 关联持仓\n",
    "3. 持仓重合度 最高的两个基金\n",
    "4. 最看好的股票\n"
   ]
  },
  {
   "cell_type": "markdown",
   "metadata": {},
   "source": [
    "## 后续"
   ]
  },
  {
   "cell_type": "code",
   "execution_count": null,
   "metadata": {},
   "outputs": [],
   "source": [
    "本文建设的是证券行业的"
   ]
  },
  {
   "cell_type": "code",
   "execution_count": null,
   "metadata": {},
   "outputs": [],
   "source": [
    "作为 领域知识图谱 金融证券领域的知识图谱，我也咨询金融行业的朋友，目前，知识图谱还没有明确的应用场景。\n",
    "\n",
    "数据选择的是结构化的数据，以及少部分的非结构化的文本数据。"
   ]
  },
  {
   "cell_type": "markdown",
   "metadata": {},
   "source": [
    "至此，完成对于进入图谱的建设工作。作为，练手项目已经完成了"
   ]
  },
  {
   "cell_type": "markdown",
   "metadata": {
    "ExecuteTime": {
     "end_time": "2020-01-27T12:10:46.275166Z",
     "start_time": "2020-01-27T12:10:46.268168Z"
    }
   },
   "source": [
    "1. 人 未对齐\n",
    "2. 单位 未对齐 (曾用名) 改名的情况"
   ]
  },
  {
   "cell_type": "markdown",
   "metadata": {
    "ExecuteTime": {
     "end_time": "2020-01-27T13:18:39.581718Z",
     "start_time": "2020-01-27T13:18:39.576731Z"
    }
   },
   "source": [
    "其实也有其他处理方式\n",
    "比如 把 行业\\省份\\城市 作为属性,而不作为节点.\n",
    "这其中的考量 主要是看是否需要进行关联()\n"
   ]
  }
 ],
 "metadata": {
  "kernelspec": {
   "display_name": "Python 3",
   "language": "python",
   "name": "python3"
  },
  "language_info": {
   "codemirror_mode": {
    "name": "ipython",
    "version": 3
   },
   "file_extension": ".py",
   "mimetype": "text/x-python",
   "name": "python",
   "nbconvert_exporter": "python",
   "pygments_lexer": "ipython3",
   "version": "3.6.8"
  },
  "toc": {
   "nav_menu": {},
   "number_sections": true,
   "sideBar": true,
   "skip_h1_title": false,
   "toc_cell": false,
   "toc_position": {},
   "toc_section_display": "block",
   "toc_window_display": false
  }
 },
 "nbformat": 4,
 "nbformat_minor": 1
}
